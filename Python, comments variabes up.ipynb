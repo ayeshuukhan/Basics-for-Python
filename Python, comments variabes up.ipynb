{
 "cells": [
  {
   "cell_type": "code",
   "execution_count": 2,
   "id": "3ee2d87e",
   "metadata": {},
   "outputs": [
    {
     "name": "stdout",
     "output_type": "stream",
     "text": [
      "Ayesha\n"
     ]
    }
   ],
   "source": [
    "print(\"Ayesha\")"
   ]
  },
  {
   "cell_type": "code",
   "execution_count": 5,
   "id": "7185d9d1",
   "metadata": {},
   "outputs": [
    {
     "name": "stdout",
     "output_type": "stream",
     "text": [
      "Ayesha\n"
     ]
    }
   ],
   "source": [
    "#My name is\n",
    "print (\"Ayesha\")"
   ]
  },
  {
   "cell_type": "code",
   "execution_count": 10,
   "id": "70476b36",
   "metadata": {},
   "outputs": [
    {
     "data": {
      "text/plain": [
       "'\\nThis is a comment\\nwriiten in more than one line\\n'"
      ]
     },
     "execution_count": 10,
     "metadata": {},
     "output_type": "execute_result"
    }
   ],
   "source": [
    "\"\"\"\n",
    "This is a comment\n",
    "wriiten in more than one line\n",
    "\"\"\""
   ]
  },
  {
   "cell_type": "code",
   "execution_count": 16,
   "id": "91f1aef4",
   "metadata": {},
   "outputs": [
    {
     "name": "stdout",
     "output_type": "stream",
     "text": [
      "Name, Ayesha Khan "
     ]
    }
   ],
   "source": [
    "print (\"Name, Ayesha\", end=\" Khan \")\n"
   ]
  },
  {
   "cell_type": "code",
   "execution_count": 18,
   "id": "b44a4405",
   "metadata": {},
   "outputs": [
    {
     "name": "stdout",
     "output_type": "stream",
     "text": [
      " My name is: \n",
      " Ayesha khan\n"
     ]
    }
   ],
   "source": [
    "print(\" My name is: \\n Ayesha khan\")"
   ]
  },
  {
   "cell_type": "code",
   "execution_count": 29,
   "id": "5a8ee31e",
   "metadata": {},
   "outputs": [
    {
     "data": {
      "text/plain": [
       "int"
      ]
     },
     "execution_count": 29,
     "metadata": {},
     "output_type": "execute_result"
    }
   ],
   "source": [
    "#Variables \n",
    "x = \"Ayesha\"\n",
    "x = 5\n",
    "type(x)\n",
    "# it print int because the last decleration of x = int"
   ]
  },
  {
   "cell_type": "code",
   "execution_count": 30,
   "id": "23a3f5fe",
   "metadata": {},
   "outputs": [
    {
     "data": {
      "text/plain": [
       "str"
      ]
     },
     "execution_count": 30,
     "metadata": {},
     "output_type": "execute_result"
    }
   ],
   "source": [
    "#Variables \n",
    "x = 5\n",
    "x = \"Ayesha\"\n",
    "type(x)\n",
    "# it print str because the last decleration of x = str"
   ]
  },
  {
   "cell_type": "code",
   "execution_count": 32,
   "id": "a0aa68d8",
   "metadata": {},
   "outputs": [
    {
     "data": {
      "text/plain": [
       "str"
      ]
     },
     "execution_count": 32,
     "metadata": {},
     "output_type": "execute_result"
    }
   ],
   "source": [
    "a = 4\n",
    "A = \"Sally\"\n",
    "type(A)\n",
    "#A will not overwrite a\n"
   ]
  },
  {
   "cell_type": "code",
   "execution_count": null,
   "id": "88013b1f",
   "metadata": {},
   "outputs": [],
   "source": [
    "input(\"Enter your name:\")\n",
    "input(\"Now Enter Your date of birth:\")\n",
    "input(\"What is the current year now:\")\n",
    "input(\"So your age = \")"
   ]
  },
  {
   "cell_type": "code",
   "execution_count": null,
   "id": "1b0eaea5",
   "metadata": {},
   "outputs": [],
   "source": []
  }
 ],
 "metadata": {
  "kernelspec": {
   "display_name": "Python 3 (ipykernel)",
   "language": "python",
   "name": "python3"
  },
  "language_info": {
   "codemirror_mode": {
    "name": "ipython",
    "version": 3
   },
   "file_extension": ".py",
   "mimetype": "text/x-python",
   "name": "python",
   "nbconvert_exporter": "python",
   "pygments_lexer": "ipython3",
   "version": "3.11.5"
  }
 },
 "nbformat": 4,
 "nbformat_minor": 5
}
